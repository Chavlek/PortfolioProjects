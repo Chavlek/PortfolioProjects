{
 "metadata": {
  "kernelspec": {
   "name": "SQL",
   "display_name": "SQL",
   "language": "sql"
  },
  "language_info": {
   "name": "sql",
   "version": ""
  }
 },
 "nbformat_minor": 2,
 "nbformat": 4,
 "cells": [
  {
   "cell_type": "markdown",
   "source": [
    "## **Covid\\_in\\_numbers** \n",
    "\n",
    "_an SQL project_"
   ],
   "metadata": {
    "azdata_cell_guid": "06ebf0c7-c684-4b01-858e-b3cd92c525cc"
   },
   "attachments": {}
  },
  {
   "cell_type": "code",
   "source": [
    "SELECT * \n",
    "FROM [Portfolio Project]..CovidDeaths\n",
    "WHERE continent is not null\n",
    "ORDER BY 3,4"
   ],
   "metadata": {
    "azdata_cell_guid": "140d0a7c-154d-4378-9689-94399aaad17e",
    "language": "sql",
    "is_executing": true
   },
   "outputs": [],
   "execution_count": null
  },
  {
   "cell_type": "code",
   "source": [
    "SELECT * \n",
    "FROM [Portfolio Project]..CovidVaccinations\n",
    "ORDER BY 3,4"
   ],
   "metadata": {
    "language": "sql",
    "azdata_cell_guid": "67eea254-3d36-4248-93aa-b505d066a507",
    "is_executing": true
   },
   "outputs": [],
   "execution_count": null
  },
  {
   "cell_type": "markdown",
   "source": [
    "Selecting the data that we are going to be using"
   ],
   "metadata": {
    "language": "sql",
    "azdata_cell_guid": "df196cfb-e9da-44d9-ae91-0d8ca77437b6"
   },
   "attachments": {}
  },
  {
   "cell_type": "code",
   "source": [
    "SELECT Location, Date, total_cases, new_cases, total_deaths, population\n",
    "FROM [Portfolio Project]..CovidDeaths\n",
    "WHERE continent is not null\n",
    "ORDER BY 1,2"
   ],
   "metadata": {
    "azdata_cell_guid": "f91fe678-0cc0-4735-8bf7-a7102a4ca23f",
    "language": "sql",
    "is_executing": true
   },
   "outputs": [],
   "execution_count": null
  },
  {
   "cell_type": "markdown",
   "source": [
    "Total Cases vs. Total Deaths\n",
    "\n",
    "likelihood of dying if covid positve in Croatia"
   ],
   "metadata": {
    "language": "sql",
    "azdata_cell_guid": "8273c7d8-1e1f-4212-a829-ac8f5a65ba41"
   },
   "attachments": {}
  },
  {
   "cell_type": "code",
   "source": [
    "SELECT Location, Date, total_cases, total_deaths, (total_deaths/total_cases)*100 as DeathPercentage\n",
    "FROM [Portfolio Project]..CovidDeaths\n",
    "WHERE [location] LIKE 'Croatia'\n",
    "ORDER BY 1,2"
   ],
   "metadata": {
    "azdata_cell_guid": "f47be01c-9331-4ecb-8d25-ceaadb447587",
    "language": "sql",
    "is_executing": true
   },
   "outputs": [],
   "execution_count": null
  },
  {
   "cell_type": "markdown",
   "source": [
    "Total Cases vs Population\n",
    "\n",
    "Percentage of population infected by Covid"
   ],
   "metadata": {
    "azdata_cell_guid": "1dc51072-b0f3-4a74-978e-175d1624e60c"
   },
   "attachments": {}
  },
  {
   "cell_type": "code",
   "source": [
    "SELECT Location, Date, total_cases, population, (total_cases/population)*100 as CovidPercentage\n",
    "FROM [Portfolio Project]..CovidDeaths\n",
    "WHERE [location] LIKE 'Croatia'\n",
    "ORDER BY 1,2"
   ],
   "metadata": {
    "azdata_cell_guid": "869d37b3-a976-48ed-b705-caa5b44e8371",
    "language": "sql",
    "is_executing": true
   },
   "outputs": [],
   "execution_count": null
  },
  {
   "cell_type": "markdown",
   "source": [
    " Countries with highest infection rate compared to population"
   ],
   "metadata": {
    "language": "sql",
    "azdata_cell_guid": "f843033c-80dd-473c-a900-5cfe0639786a"
   },
   "attachments": {}
  },
  {
   "cell_type": "code",
   "source": [
    "SELECT Location, Max(total_cases) as HighestInfectionCount, MAX((total_cases/population)*100) as PercentOfPopulationInfected\n",
    "FROM [Portfolio Project]..CovidDeaths\n",
    "-- WHERE [location] LIKE 'Croatia'\n",
    "WHERE continent is not null\n",
    "GROUP BY [location],population \n",
    "ORDER BY PercentOfPopulationInfected DESC"
   ],
   "metadata": {
    "azdata_cell_guid": "7cbc8796-05b8-48f1-a6f7-5867b06a20a4",
    "language": "sql",
    "tags": [],
    "is_executing": true
   },
   "outputs": [],
   "execution_count": null
  },
  {
   "cell_type": "markdown",
   "source": [
    " Counties with the highest Death Count per Population"
   ],
   "metadata": {
    "language": "sql",
    "azdata_cell_guid": "09b32ef6-830a-4d92-857c-f22818f98081"
   },
   "attachments": {}
  },
  {
   "cell_type": "code",
   "source": [
    "SELECT Location, Max(total_deaths) as TotalDeathCount\n",
    "FROM [Portfolio Project]..CovidDeaths\n",
    "-- WHERE [location] LIKE 'Croatia'\n",
    "WHERE continent is not null\n",
    "GROUP BY [location]\n",
    "ORDER BY TotalDeathCount DESC"
   ],
   "metadata": {
    "azdata_cell_guid": "284196f6-6d13-4cfd-bb46-52d3a5be6b6a",
    "language": "sql",
    "is_executing": true
   },
   "outputs": [],
   "execution_count": null
  },
  {
   "cell_type": "markdown",
   "source": [
    "Continent with total death count"
   ],
   "metadata": {
    "language": "sql",
    "azdata_cell_guid": "f31d078a-b2e2-45e9-be1b-76e046a9c58f"
   },
   "attachments": {}
  },
  {
   "cell_type": "code",
   "source": [
    "SELECT [location], Max(total_deaths) as TotalDeathCount\n",
    "FROM [Portfolio Project]..CovidDeaths\n",
    "-- WHERE [location] LIKE 'Croatia'\n",
    "WHERE continent is null \n",
    "and [location] not in ('High income','Upper middle income', 'Lower middle income','Low income')\n",
    "GROUP BY [location] \n",
    "ORDER BY TotalDeathCount DESC"
   ],
   "metadata": {
    "language": "sql",
    "azdata_cell_guid": "bb1e4943-99ae-4fcb-b61f-056687915227",
    "is_executing": true
   },
   "outputs": [],
   "execution_count": null
  },
  {
   "cell_type": "markdown",
   "source": [
    "Global numbers: Total Cases vs Total Deaths with the daily percent"
   ],
   "metadata": {
    "language": "sql",
    "azdata_cell_guid": "9196981c-52cf-4756-a014-7bc9cb290175"
   },
   "attachments": {}
  },
  {
   "cell_type": "code",
   "source": [
    "SELECT Date, SUM(new_cases) as total_cases, SUM(new_deaths) as total_deaths\n",
    ", SUM(cast(new_deaths as float))/nullif(SUM(cast(new_cases as float)),0)*100 as DeathPercentage\n",
    "FROM [Portfolio Project]..CovidDeaths\n",
    "--WHERE [location] LIKE 'Croatia'\n",
    "WHERE continent is not null\n",
    "GROUP BY [date]\n",
    "ORDER BY 1,2"
   ],
   "metadata": {
    "language": "sql",
    "azdata_cell_guid": "8097c127-b46e-4c2f-a5c4-429af82022cb",
    "is_executing": true
   },
   "outputs": [],
   "execution_count": null
  },
  {
   "cell_type": "markdown",
   "source": [
    "Overall Total Cases vs Deaths and Death Pecentage"
   ],
   "metadata": {
    "azdata_cell_guid": "66614c20-af86-4e02-922c-97686f4b9d52"
   },
   "attachments": {}
  },
  {
   "cell_type": "code",
   "source": [
    "SELECT SUM(new_cases) as total_cases, SUM(new_deaths) as total_deaths\n",
    ", SUM(cast(new_deaths as float))/nullif(SUM(cast(new_cases as float)),0)*100 as DeathPercentage\n",
    "FROM [Portfolio Project]..CovidDeaths\n",
    "--WHERE [location] LIKE 'Croatia'\n",
    "WHERE continent is not null\n",
    "--GROUP BY [date]\n",
    "ORDER BY 1,2"
   ],
   "metadata": {
    "azdata_cell_guid": "7b8d2cb5-3811-4feb-b4cf-2d374cf5a2d5",
    "language": "sql",
    "is_executing": true
   },
   "outputs": [],
   "execution_count": null
  },
  {
   "cell_type": "markdown",
   "source": [
    "Joining two tables, \n",
    "\n",
    "Total Population vs Vaccination, with total vacciantions per day per country"
   ],
   "metadata": {
    "language": "sql",
    "azdata_cell_guid": "07360f09-f15d-421c-b84c-59ed8c25a7c0"
   },
   "attachments": {}
  },
  {
   "cell_type": "code",
   "source": [
    "SELECT dea.continent, dea.[location],dea.[date], dea.population, vac.new_vaccinations\n",
    ", SUM(vac.new_vaccinations) OVER (Partition by dea.location Order by dea.location, dea.[date]) as RollingPeopleVaccinated\n",
    "FROM [Portfolio Project]..CovidDeaths dea \n",
    "JOIN [Portfolio Project]..CovidVaccinations vac \n",
    "    ON dea.[location] = vac.[location]\n",
    "    and dea.[date] = vac.[date]\n",
    "WHERE dea.continent is not null and vac.new_vaccinations is not null\n",
    "ORDER BY continent,[location]\n"
   ],
   "metadata": {
    "language": "sql",
    "azdata_cell_guid": "8f9e49bc-5b32-4dd3-9f9a-443f033478f9",
    "is_executing": true
   },
   "outputs": [],
   "execution_count": null
  },
  {
   "cell_type": "markdown",
   "source": [
    "Population vs Vaccination. //  with CTE"
   ],
   "metadata": {
    "azdata_cell_guid": "3935a8c2-cd30-489a-a782-8d8c7a4cdfe0"
   },
   "attachments": {}
  },
  {
   "cell_type": "code",
   "source": [
    "with PopvsVac (continent,location,date,population, New_Vaccinations, RollingPeopleVaccinated)\n",
    "as\n",
    "(\n",
    "SELECT dea.continent, dea.[location],dea.[date], dea.population, vac.new_vaccinations\n",
    ", SUM(vac.new_vaccinations) OVER (Partition by dea.location Order by dea.location, dea.[date]) as RollingPeopleVaccinated\n",
    "FROM [Portfolio Project]..CovidDeaths dea \n",
    "JOIN [Portfolio Project]..CovidVaccinations vac \n",
    "    ON dea.[location] = vac.[location]\n",
    "    and dea.[date] = vac.[date]\n",
    "WHERE dea.continent is not null and vac.new_vaccinations is not null\n",
    "--ORDER BY continent,[location]\n",
    ")\n",
    "SELECT *, (RollingPeopleVaccinated/population)*100 RollingPercentVaccinated\n",
    "FROM PopvsVac"
   ],
   "metadata": {
    "azdata_cell_guid": "d1da5be8-acee-440f-bfb2-09d59df70b0b",
    "language": "sql",
    "is_executing": true
   },
   "outputs": [],
   "execution_count": null
  },
  {
   "cell_type": "markdown",
   "source": [
    "Populatin vs vaccination // with temp table"
   ],
   "metadata": {
    "azdata_cell_guid": "6140922f-5682-4d7d-b6a7-07a69b33c17a"
   },
   "attachments": {}
  },
  {
   "cell_type": "code",
   "source": [
    "DROP TABLE if EXISTS #percentPopulationVaccinated\n",
    "CREATE TABLE #percentPopulationVaccinated\n",
    "(\n",
    "\n",
    "Continent NVARCHAR(255),\n",
    "Location NVARCHAR(255),\n",
    "Date datetime,\n",
    "Population numeric, \n",
    "New_vaccinations numeric,\n",
    "RollingPeopleVaccinated numeric\n",
    ")\n",
    "\n",
    "INSERT into #percentPopulationVaccinated\n",
    "SELECT dea.continent, dea.[location],dea.[date], dea.population, vac.new_vaccinations\n",
    ", SUM(vac.new_vaccinations) OVER (Partition by dea.location Order by dea.location, dea.[date]) as RollingPeopleVaccinated\n",
    "FROM [Portfolio Project]..CovidDeaths dea \n",
    "JOIN [Portfolio Project]..CovidVaccinations vac \n",
    "    ON dea.[location] = vac.[location]\n",
    "    and dea.[date] = vac.[date]\n",
    "WHERE dea.continent is not null and vac.new_vaccinations is not null\n",
    "--ORDER BY continent,[location]\n",
    "\n",
    "SELECT *, (RollingPeopleVaccinated/population)*100 RollingPercentVaccinated\n",
    "FROM #percentPopulationVaccinated\n",
    "ORDER BY location"
   ],
   "metadata": {
    "azdata_cell_guid": "4174c810-146a-47d5-91fb-0e8910068c13",
    "language": "sql",
    "is_executing": true
   },
   "outputs": [],
   "execution_count": null
  },
  {
   "cell_type": "markdown",
   "source": [
    "Creating Views for later visualization"
   ],
   "metadata": {
    "azdata_cell_guid": "8dd0302a-3e3a-4af5-b3cb-dcaf336b2513"
   },
   "attachments": {}
  },
  {
   "cell_type": "code",
   "source": [
    "CREATE VIEW PercentPopulationVaccinated as \n",
    "SELECT dea.continent, dea.[location],dea.[date], dea.population, vac.new_vaccinations\n",
    ", SUM(vac.new_vaccinations) OVER (Partition by dea.location Order by dea.location, dea.[date]) as RollingPeopleVaccinated\n",
    "FROM [Portfolio Project]..CovidDeaths dea \n",
    "JOIN [Portfolio Project]..CovidVaccinations vac \n",
    "    ON dea.[location] = vac.[location]\n",
    "    and dea.[date] = vac.[date]\n",
    "WHERE dea.continent is not null\n",
    "--ORDER BY continent,[location]"
   ],
   "metadata": {
    "azdata_cell_guid": "0c789dad-0dd7-4dd5-b803-2d21a3d44bfe",
    "language": "sql",
    "is_executing": true
   },
   "outputs": [],
   "execution_count": null
  },
  {
   "cell_type": "code",
   "source": [
    "Select * \n",
    "FROM PercentPopulationVaccinated\n",
    "ORDER By 2, 3 ASC"
   ],
   "metadata": {
    "language": "sql",
    "azdata_cell_guid": "00253ea9-3fc0-460b-8f5b-325fa89a60f0",
    "is_executing": true
   },
   "outputs": [],
   "execution_count": null
  }
 ]
}
